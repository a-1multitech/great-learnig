{
 "cells": [
  {
   "cell_type": "code",
   "execution_count": 1,
   "metadata": {},
   "outputs": [],
   "source": [
    "import numpy as np"
   ]
  },
  {
   "cell_type": "code",
   "execution_count": 12,
   "metadata": {},
   "outputs": [
    {
     "name": "stdout",
     "output_type": "stream",
     "text": [
      "-1.0\n",
      "1.1\n",
      "5.2\n",
      "1.0\n",
      "2.718281828459045\n",
      "3.141592653589793\n"
     ]
    }
   ],
   "source": [
    "print(np.cos(np.pi))\n",
    "print(np.sqrt(1.21))\n",
    "print(np.log(np.exp(5.2)))\n",
    "print(np.log(np.exp(1))) # natural log of e is 1.0\n",
    "print(np.exp(1)) # this is e\n",
    "print(np.pi) # this is pi"
   ]
  },
  {
   "cell_type": "code",
   "execution_count": 13,
   "metadata": {},
   "outputs": [],
   "source": [
    "#np arrays are vectors in reality\n",
    "vec = np.array([1,2,3])"
   ]
  },
  {
   "cell_type": "code",
   "execution_count": 14,
   "metadata": {},
   "outputs": [
    {
     "name": "stdout",
     "output_type": "stream",
     "text": [
      "[1 2 3]\n"
     ]
    }
   ],
   "source": [
    "print(vec)"
   ]
  },
  {
   "cell_type": "code",
   "execution_count": 65,
   "metadata": {},
   "outputs": [
    {
     "name": "stdout",
     "output_type": "stream",
     "text": [
      "[[1 2 1]\n",
      " [4 5 9]\n",
      " [1 8 9]]\n"
     ]
    }
   ],
   "source": [
    "mat = np.array([[1,2,1],[4,5,9],[1,8,9]])\n",
    "print(mat)"
   ]
  },
  {
   "cell_type": "code",
   "execution_count": 66,
   "metadata": {},
   "outputs": [
    {
     "name": "stdout",
     "output_type": "stream",
     "text": [
      "[[1 4 1]\n",
      " [2 5 8]\n",
      " [1 9 9]]\n",
      "[[1 4 1]\n",
      " [2 5 8]\n",
      " [1 9 9]]\n",
      "None\n"
     ]
    }
   ],
   "source": [
    "mat_transpose = mat.T\n",
    "print(mat_transpose)\n",
    "print(print(mat.T))"
   ]
  },
  {
   "cell_type": "code",
   "execution_count": 67,
   "metadata": {},
   "outputs": [
    {
     "name": "stdout",
     "output_type": "stream",
     "text": [
      "[ 0  1  2  3  4  5  6  7  8  9 10 11 12 13 14]\n",
      "\n",
      "[ 3  9 15]\n"
     ]
    }
   ],
   "source": [
    "# other ways to create arrays\n",
    "vec2 = np.arange(0,15) # 0 is inclusive and 15 is exclusive\n",
    "print(vec2)\n",
    "vec3 = np.arange(3,21,6) # in steps of 6\n",
    "print(\"\")\n",
    "print(vec3)"
   ]
  },
  {
   "cell_type": "code",
   "execution_count": 68,
   "metadata": {},
   "outputs": [
    {
     "name": "stdout",
     "output_type": "stream",
     "text": [
      "[0.         0.55555556 1.11111111 1.66666667 2.22222222 2.77777778\n",
      " 3.33333333 3.88888889 4.44444444 5.        ]\n",
      "\n",
      "[[0.         0.55555556]\n",
      " [1.11111111 1.66666667]\n",
      " [2.22222222 2.77777778]\n",
      " [3.33333333 3.88888889]\n",
      " [4.44444444 5.        ]]\n"
     ]
    }
   ],
   "source": [
    "vec4 = np.linspace(0,5,10) # 0 and 15 both are inclusive and there would 10 equispced data point\n",
    "print(vec4)\n",
    "print(\"\")\n",
    "vec5 = vec4.reshape(5,2) # 5 rows and 2 columns\n",
    "#vec5 = np.reshape(vec4) # does not work\n",
    "print(vec5)"
   ]
  },
  {
   "cell_type": "code",
   "execution_count": 69,
   "metadata": {},
   "outputs": [
    {
     "name": "stdout",
     "output_type": "stream",
     "text": [
      "[[0. 0. 0.]\n",
      " [0. 0. 0.]\n",
      " [0. 0. 0.]\n",
      " [0. 0. 0.]\n",
      " [0. 0. 0.]]\n",
      "\n",
      "[[1. 1. 1. 1. 1.]\n",
      " [1. 1. 1. 1. 1.]\n",
      " [1. 1. 1. 1. 1.]]\n",
      "\n",
      "[[1. 0. 0. 0. 0.]\n",
      " [0. 1. 0. 0. 0.]\n",
      " [0. 0. 1. 0. 0.]\n",
      " [0. 0. 0. 1. 0.]\n",
      " [0. 0. 0. 0. 1.]]\n"
     ]
    }
   ],
   "source": [
    "mat2 = np.zeros([5,3]) # matrix of 0's 5 rows and 3 columns using a list []\n",
    "print(mat2)\n",
    "print(\"\")\n",
    "mat3 = np.ones((3,5))# this itme using tuples of 3 and 5 ()\n",
    "print(mat3)\n",
    "print(\"\")\n",
    "mat4 = np.eye(5) # square matrix of 5x5 with identity all 1's in diagonal\n",
    "print(mat4)"
   ]
  },
  {
   "cell_type": "code",
   "execution_count": null,
   "metadata": {},
   "outputs": [],
   "source": [
    "# Part 2 of numpy video\n"
   ]
  },
  {
   "cell_type": "code",
   "execution_count": 70,
   "metadata": {},
   "outputs": [
    {
     "name": "stdout",
     "output_type": "stream",
     "text": [
      "[1 2 3 4 5]\n",
      "[3 4 5 6 7]\n",
      "[ 4  6  8 10 12]\n",
      "[2 2 2 2 2]\n",
      "[ 3  8 15 24 35]\n",
      "[3.         2.         1.66666667 1.5        1.4       ]\n",
      "[1.73205081 2.         2.23606798 2.44948974 2.64575131]\n"
     ]
    }
   ],
   "source": [
    "# +, -, *, / of arrays -- arrays should of same size\n",
    "vec5 = np.arange(1,6)\n",
    "vec6 = np.arange(3,8)\n",
    "print(vec5)\n",
    "print(vec6)\n",
    "print(vec5+vec6)\n",
    "print(vec6-vec5)\n",
    "print(vec6*vec5)\n",
    "print(vec6/vec5)\n",
    "print(np.sqrt(vec6))"
   ]
  },
  {
   "cell_type": "code",
   "execution_count": 48,
   "metadata": {},
   "outputs": [
    {
     "name": "stdout",
     "output_type": "stream",
     "text": [
      "[[1 2 3]\n",
      " [4 5 6]\n",
      " [7 8 9]]\n",
      "\n",
      "[1 2 3]\n",
      "\n",
      "[14 32 50]\n",
      "change the order of multipliar\n",
      "[30 36 42]\n"
     ]
    }
   ],
   "source": [
    "# matrix multiplication\n",
    "\n",
    "print(mat)\n",
    "print(\"\")\n",
    "print(vec)\n",
    "print()\n",
    "prod = np.matmul(mat, vec)  # dot products of rows and colums https://www.mathsisfun.com/algebra/matrix-multiplying.html\n",
    "# row item * rows item and add them\n",
    "#1*1+ 2*2 + 3*3 = 14\n",
    "#4*1+ 5*2 + 6*3 = 32\n",
    "#1*7+ 2* 8 + 3*9 = 50\n",
    "print(prod)\n",
    "prod2 = np.matmul(vec, mat)\n",
    "print(\"change the order of multipliar\")\n",
    "print(prod2)"
   ]
  },
  {
   "cell_type": "code",
   "execution_count": 101,
   "metadata": {},
   "outputs": [
    {
     "name": "stdout",
     "output_type": "stream",
     "text": [
      "[[1 2 1]\n",
      " [4 5 9]\n",
      " [1 8 9]]\n",
      "[1 2 3]\n",
      "[ 8 41 44]\n",
      "\n",
      "[[1 2 1]\n",
      " [4 5 9]\n",
      " [1 8 9]]\n",
      "[ 8 41 44]\n",
      "\n",
      "[1. 2. 3.]\n"
     ]
    }
   ],
   "source": [
    "# solving a matrix is like m1*m2 = prod and we know m1 and prod and want to find m2 \n",
    "print(mat)\n",
    "print(vec)\n",
    "prod = np.matmul(mat, vec)\n",
    "print(prod)\n",
    "print()\n",
    "print(mat)\n",
    "print(prod)\n",
    "print()\n",
    "mat7 = np.linalg.solve(mat, prod)\n",
    "\n",
    "print(mat7)\n"
   ]
  },
  {
   "cell_type": "code",
   "execution_count": 72,
   "metadata": {},
   "outputs": [
    {
     "name": "stdout",
     "output_type": "stream",
     "text": [
      "[14. 32. 50.]\n",
      "[ 8 41 44]\n"
     ]
    }
   ],
   "source": [
    "print(np.matmul(mat, mat7))\n",
    "print(np.matmul(mat, vec))"
   ]
  },
  {
   "cell_type": "code",
   "execution_count": null,
   "metadata": {},
   "outputs": [],
   "source": [
    "### NOTE : there seems more then one solution"
   ]
  },
  {
   "cell_type": "code",
   "execution_count": 73,
   "metadata": {},
   "outputs": [
    {
     "name": "stdout",
     "output_type": "stream",
     "text": [
      "[[1 2 1]\n",
      " [4 5 9]\n",
      " [1 8 9]]\n",
      "[[ 0.5         0.18518519 -0.24074074]\n",
      " [ 0.5        -0.14814815  0.09259259]\n",
      " [-0.5         0.11111111  0.05555556]]\n",
      "[[1. 0. 0.]\n",
      " [0. 1. 0.]\n",
      " [0. 0. 1.]]\n"
     ]
    }
   ],
   "source": [
    "# inverse of a matrix A*inv(A) = Identity matrix\n",
    "\n",
    "print(mat)\n",
    "inv_mat = np.linalg.inv(mat)\n",
    "print(inv_mat)\n",
    "print(np.matmul(mat, inv_mat))"
   ]
  },
  {
   "cell_type": "code",
   "execution_count": 78,
   "metadata": {},
   "outputs": [
    {
     "name": "stdout",
     "output_type": "stream",
     "text": [
      "[[1 2 3]\n",
      " [4 5 6]\n",
      " [7 8 9]]\n",
      "[1 2 3]\n"
     ]
    }
   ],
   "source": [
    "mt = np.array([[1,2,3],[4,5,6],[7,8,9]])\n",
    "vt = np.array([1,2,3])\n",
    "print(mt)\n",
    "print(vt)"
   ]
  },
  {
   "cell_type": "code",
   "execution_count": 106,
   "metadata": {},
   "outputs": [
    {
     "name": "stdout",
     "output_type": "stream",
     "text": [
      "[[1 2 3]\n",
      " [4 5 6]\n",
      " [7 8 9]]\n",
      "[1 2 3]\n",
      "[14 32 50]\n",
      "\n",
      "[2. 0. 4.]\n",
      "[[-4.50359963e+15  9.00719925e+15 -4.50359963e+15]\n",
      " [ 9.00719925e+15 -1.80143985e+16  9.00719925e+15]\n",
      " [-4.50359963e+15  9.00719925e+15 -4.50359963e+15]]\n",
      "[[ 0.  0.  0.]\n",
      " [-4.  0. -4.]\n",
      " [ 0.  0.  0.]]\n"
     ]
    }
   ],
   "source": [
    "###########################\n",
    "\n",
    "#print(mat)\n",
    "#inv_mat = np.linalg.inv(mat)\n",
    "#print(inv_mat)\n",
    "#print(np.matmul(mat, inv_mat))\n",
    "\n",
    "print(mt)\n",
    "print(vt)\n",
    "\n",
    "#inv_mt = np.linalg.inv(mt)\n",
    "#print(inv_mt)\n",
    "#print(np.matmul(mt, vt))\n",
    "#print(np.linalg.solve(mt, prd)\n",
    "\n",
    "prd=np.matmul(mt, vt)\n",
    "\n",
    "print(prd)\n",
    "print()\n",
    "print(np.linalg.solve(mt, prd))\n",
    "\n",
    "inv_mt = np.linalg.inv(mt)\n",
    "print(inv_mt)\n",
    "print(np.matmul(mt, inv_mt))\n",
    "#print(np.linalg.solve(mt, prd)\n"
   ]
  },
  {
   "cell_type": "code",
   "execution_count": 115,
   "metadata": {},
   "outputs": [
    {
     "name": "stdout",
     "output_type": "stream",
     "text": [
      "[[1 2]\n",
      " [6 7]]\n",
      "[3 9]\n",
      "--------------\n",
      "[[-1.4  0.4]\n",
      " [ 1.2 -0.2]]\n",
      "[[1. 0.]\n",
      " [0. 1.]]\n",
      "--------------\n",
      "[21 81]\n",
      "[3. 9.]\n"
     ]
    }
   ],
   "source": [
    "####### test another for inversion\n",
    "\n",
    "matrix1 = np.array([[1,2],[6,7]])\n",
    "print(matrix1)\n",
    "vector1 = np.array([3,9])\n",
    "print(vector1)\n",
    "print(\"--------------\")\n",
    "inv_matrix1 = np.linalg.inv(matrix1)\n",
    "print(inv_matrix1)\n",
    "print(np.matmul(matrix1, inv_matrix1))\n",
    "\n",
    "pr = np.matmul(matrix1, vector1)\n",
    "print(\"--------------\")\n",
    "print(pr)\n",
    "print(np.linalg.solve(matrix1, pr))"
   ]
  },
  {
   "cell_type": "code",
   "execution_count": 118,
   "metadata": {},
   "outputs": [
    {
     "name": "stdout",
     "output_type": "stream",
     "text": [
      "['ram' 'Ram' 'Shyam' 'Radhey' 'ram' 'india' 'india' 'Bharat' '100']\n",
      "['100' 'Bharat' 'Radhey' 'Ram' 'Shyam' 'india' 'ram']\n"
     ]
    }
   ],
   "source": [
    "# finding unique values\n",
    "\n",
    "vec7 = np.array([\"ram\", \"Ram\", \"Shyam\", \"Radhey\", \"ram\", \"india\", \"india\", \"Bharat\", 100])\n",
    "print(vec7)\n",
    "print(np.unique(vec7))"
   ]
  },
  {
   "cell_type": "code",
   "execution_count": 123,
   "metadata": {},
   "outputs": [
    {
     "name": "stdout",
     "output_type": "stream",
     "text": [
      "[[0.69616139 0.79374618 0.47493851 0.26855588 0.66912752]\n",
      " [0.74370571 0.31120309 0.54724701 0.45541322 0.33214942]\n",
      " [0.80176713 0.50114604 0.25665586 0.61819527 0.38316454]\n",
      " [0.20945406 0.34871887 0.9628901  0.09884685 0.24083419]\n",
      " [0.17567078 0.97632248 0.21122567 0.89765886 0.2102141 ]]\n",
      "--------------\n",
      "[[ 0.90701837 -1.71235423  0.81673326  1.20162197 -0.74738931]\n",
      " [ 1.46773947  0.02817868  0.19200072 -0.73964274 -0.35028461]\n",
      " [ 0.03926674 -0.06541551  1.8738723  -0.33722135  0.37576495]\n",
      " [ 0.40793708  0.58187648  1.82417552  2.03135104  1.20170237]\n",
      " [-0.47079939  0.12479734  0.27543969 -0.10235288 -1.41145997]\n",
      " [ 0.41963938  0.53056426  0.10364277  0.22618478 -0.78034595]\n",
      " [ 1.17713307 -1.27010795  0.28962054 -0.16284578 -0.18805358]\n",
      " [-0.82389868 -0.20118333  1.29232797  1.59731179 -0.67694832]\n",
      " [-2.10117567  0.97493727 -1.13286247 -1.03262135 -0.25786876]\n",
      " [-0.11391308  1.37285046 -0.46397711 -0.05219461  1.15510139]]\n",
      "--------------\n",
      "0.4874005093876162\n",
      "0.9446344866454721\n",
      "--------------\n",
      "0.09884685244704428\n",
      "2.0313510380594773\n"
     ]
    }
   ],
   "source": [
    "# numpy to generate data\n",
    "rand_mat = np.random.rand(5,5) # sqaure matrix of 5 x 5 data point Uniform random variable - mean = 0.5\n",
    "print(rand_mat)\n",
    "print(\"--------------\")\n",
    "rand_mat2 = np.random.randn(10,5) # Standard normal random variable - mean = 0 std = 1\n",
    "print(rand_mat2)\n",
    "print(\"--------------\")\n",
    "print(np.mean(rand_mat))\n",
    "print(np.std(rand_mat2))\n",
    "print(\"--------------\")\n",
    "print(np.min(rand_mat))\n",
    "print(np.max(rand_mat2))"
   ]
  },
  {
   "cell_type": "code",
   "execution_count": 127,
   "metadata": {},
   "outputs": [
    {
     "name": "stdout",
     "output_type": "stream",
     "text": [
      "[ 0.83961611 -0.14111241 -0.65933041 -1.23326729  1.10560613  0.48308482\n",
      "  0.21748731  0.38061462 -1.00609406  1.073796    0.01509803  1.68195713\n",
      "  0.53705381 -0.03726785 -1.13458384  0.21169889  1.42501089  0.38126848\n",
      "  2.49394487]\n",
      "--------------\n",
      "0.2174873113258187\n",
      "--------------\n",
      "[ 1.10560613  0.48308482  0.21748731  0.38061462 -1.00609406  1.073796  ]\n"
     ]
    }
   ],
   "source": [
    "rand_vec = np.random.randn(19)\n",
    "print(rand_vec)\n",
    "print(\"--------------\")\n",
    "print(rand_vec[6])\n",
    "print(\"--------------\")\n",
    "print(rand_vec[4:10])"
   ]
  },
  {
   "cell_type": "code",
   "execution_count": 131,
   "metadata": {},
   "outputs": [
    {
     "name": "stdout",
     "output_type": "stream",
     "text": [
      "[ 0.83961611 -1.23326729  0.21748731  1.073796    0.53705381]\n"
     ]
    }
   ],
   "source": [
    "print(rand_vec[np.arange(0,15,3)])"
   ]
  },
  {
   "cell_type": "code",
   "execution_count": 138,
   "metadata": {},
   "outputs": [
    {
     "name": "stdout",
     "output_type": "stream",
     "text": [
      "[[0.69616139 0.79374618 0.47493851 0.26855588 0.66912752]\n",
      " [0.74370571 0.31120309 0.54724701 0.45541322 0.33214942]\n",
      " [0.80176713 0.50114604 0.25665586 0.61819527 0.38316454]\n",
      " [0.20945406 0.34871887 0.9628901  0.09884685 0.24083419]\n",
      " [0.17567078 0.97632248 0.21122567 0.89765886 0.2102141 ]]\n",
      "_________________________________________________________\n",
      "0.5472470142203053\n",
      "0.5472470142203053\n"
     ]
    }
   ],
   "source": [
    "\n",
    "print(rand_mat)\n",
    "print(\"_________________________________________________________\")\n",
    "print(rand_mat[1][2])\n",
    "print(rand_mat[1,2])"
   ]
  },
  {
   "cell_type": "code",
   "execution_count": 149,
   "metadata": {},
   "outputs": [
    {
     "name": "stdout",
     "output_type": "stream",
     "text": [
      "[-1.04997784  0.93228771 -1.91030892 -0.39848221 -0.76792191 -1.17341506\n",
      "  0.77752929 -0.56749077  0.09100738 -0.4513532   1.58781083 -1.00289488\n",
      " -1.29488623 -0.17697606 -0.18909934 -1.66539009 -0.3257162   0.9883707\n",
      " -0.54966062]\n",
      "_________________________________________________________\n",
      "[-1.04997784  0.93228771 -1.91030892  1.          2.         -1.17341506\n",
      "  0.77752929 -0.56749077  0.09100738 -0.4513532   1.58781083 -1.00289488\n",
      " -1.29488623 -0.17697606 -0.18909934 -1.66539009 -0.3257162   0.9883707\n",
      " -0.54966062]\n"
     ]
    }
   ],
   "source": [
    "rand_vec = np.random.randn(19)\n",
    "print(rand_vec)\n",
    "rand_vec[3:5] = 4\n",
    "rand_vec[3:5] = [1,2] # list to can be provied for change of data point\n",
    "print(\"_________________________________________________________\")\n",
    "print(rand_vec)\n"
   ]
  },
  {
   "cell_type": "code",
   "execution_count": 154,
   "metadata": {},
   "outputs": [
    {
     "name": "stdout",
     "output_type": "stream",
     "text": [
      "[[0.69616139 0.79374618 0.47493851 0.26855588 0.66912752]\n",
      " [0.74370571 0.         0.         0.45541322 0.33214942]\n",
      " [0.80176713 0.         0.         0.61819527 0.38316454]\n",
      " [0.20945406 0.34871887 0.9628901  0.09884685 0.24083419]\n",
      " [0.17567078 0.97632248 0.21122567 0.89765886 0.2102141 ]]\n",
      "_________________________________________________________\n",
      "[[0.69616139 0.79374618 0.47493851 0.26855588 0.66912752]\n",
      " [0.74370571 0.         0.         0.         0.33214942]\n",
      " [0.80176713 0.         0.         0.         0.38316454]\n",
      " [0.20945406 0.         0.         0.         0.24083419]\n",
      " [0.17567078 0.97632248 0.21122567 0.89765886 0.2102141 ]]\n"
     ]
    }
   ],
   "source": [
    "print(rand_mat)\n",
    "rand_mat[1:4, 1:4] = 0\n",
    "print(\"_________________________________________________________\")\n",
    "print(rand_mat)"
   ]
  },
  {
   "cell_type": "code",
   "execution_count": 160,
   "metadata": {},
   "outputs": [
    {
     "name": "stdout",
     "output_type": "stream",
     "text": [
      "[[0.69616139 0.79374618 0.47493851 0.26855588 0.66912752]\n",
      " [0.74370571 0.         0.         0.         0.33214942]\n",
      " [0.80176713 0.         0.         0.         0.38316454]\n",
      " [0.20945406 0.         0.         0.         0.24083419]\n",
      " [0.17567078 0.97632248 0.21122567 0.89765886 0.2102141 ]]\n",
      "_________________________________________________________\n",
      "[[0. 0. 0.]\n",
      " [0. 0. 0.]\n",
      " [0. 0. 0.]]\n",
      "_________________________________________________________\n",
      "[[3. 3. 3.]\n",
      " [3. 3. 3.]\n",
      " [3. 3. 3.]]\n",
      "_________________________________________________________\n",
      "[[0.69616139 0.79374618 0.47493851 0.26855588 0.66912752]\n",
      " [0.74370571 3.         3.         3.         0.33214942]\n",
      " [0.80176713 3.         3.         3.         0.38316454]\n",
      " [0.20945406 3.         3.         3.         0.24083419]\n",
      " [0.17567078 0.97632248 0.21122567 0.89765886 0.2102141 ]]\n"
     ]
    }
   ],
   "source": [
    "# sub matrix extraction\n",
    "rand_mat[1:4, 1:4] = 0\n",
    "print(rand_mat)\n",
    "print(\"_________________________________________________________\")\n",
    "sub_mat = rand_mat[1:4, 1:4] # with 0's\n",
    "print(sub_mat)\n",
    "print(\"_________________________________________________________\")\n",
    "sub_mat[:] = 3 # ITN this would modify the rand_mat as well ..... with 3's\n",
    "print(sub_mat)\n",
    "print(\"_________________________________________________________\")\n",
    "print(rand_mat)"
   ]
  },
  {
   "cell_type": "code",
   "execution_count": 164,
   "metadata": {},
   "outputs": [
    {
     "name": "stdout",
     "output_type": "stream",
     "text": [
      "[[0.69616139 0.79374618 0.47493851]\n",
      " [0.74370571 3.         3.        ]\n",
      " [0.80176713 3.         3.        ]]\n"
     ]
    }
   ],
   "source": [
    "sub_mat2 = rand_mat[0:3, 0:3].copy()\n",
    "print(sub_mat2)"
   ]
  },
  {
   "cell_type": "code",
   "execution_count": 170,
   "metadata": {},
   "outputs": [
    {
     "name": "stdout",
     "output_type": "stream",
     "text": [
      "[[100. 100. 100.]\n",
      " [100. 100. 100.]\n",
      " [100. 100. 100.]]\n",
      "_________________________________________________________\n",
      "[[0.69616139 0.79374618 0.47493851 0.26855588 0.66912752]\n",
      " [0.74370571 3.         3.         3.         0.33214942]\n",
      " [0.80176713 3.         3.         3.         0.38316454]\n",
      " [0.20945406 3.         3.         3.         0.24083419]\n",
      " [0.17567078 0.97632248 0.21122567 0.89765886 0.2102141 ]]\n"
     ]
    }
   ],
   "source": [
    "sub_mat2[:] = 100\n",
    "print(sub_mat2)\n",
    "print(\"_________________________________________________________\")\n",
    "print(rand_mat) # original is not modified"
   ]
  },
  {
   "cell_type": "code",
   "execution_count": 171,
   "metadata": {},
   "outputs": [],
   "source": [
    "##### saving and loading numpy"
   ]
  },
  {
   "cell_type": "code",
   "execution_count": 177,
   "metadata": {},
   "outputs": [
    {
     "name": "stdout",
     "output_type": "stream",
     "text": [
      "[ 1.04727289 -0.27390223  1.3810504  -0.83076545 -0.8252655   1.07144494\n",
      " -1.62320273  1.90748176  1.06098089  1.27600883 -2.74343448  0.91913145\n",
      " -0.96570877  0.77901459  0.88566334]\n",
      "\n",
      "[ True False  True False False  True False  True  True  True False  True\n",
      " False  True  True]\n",
      "[1.04727289 1.3810504  1.07144494 1.90748176 1.06098089 1.27600883\n",
      " 0.91913145 0.77901459 0.88566334]\n"
     ]
    }
   ],
   "source": [
    "rand_vec = np.random.randn(15)\n",
    "print(rand_vec)\n",
    "print()\n",
    "print(rand_vec > 0)\n",
    "print(rand_vec[rand_vec >0]) # prints only the True values"
   ]
  },
  {
   "cell_type": "code",
   "execution_count": 184,
   "metadata": {},
   "outputs": [
    {
     "name": "stdout",
     "output_type": "stream",
     "text": [
      "[ 5.         -0.27390223  5.         -0.83076545 -0.8252655   5.\n",
      " -1.62320273  5.          5.          5.         -2.74343448  5.\n",
      " -0.96570877  5.          5.        ]\n",
      "\n",
      "\n",
      "[ 5.         -0.27390223  5.         -0.83076545 -0.8252655   5.\n",
      " -1.62320273  5.          5.          5.         -2.74343448  5.\n",
      " -0.96570877  5.          5.        ]\n"
     ]
    }
   ],
   "source": [
    "print(rand_vec) \n",
    "\n",
    "rand_vec[rand_vec > .5] = 5 \n",
    "print(rand_vec)"
   ]
  },
  {
   "cell_type": "code",
   "execution_count": 185,
   "metadata": {},
   "outputs": [
    {
     "name": "stdout",
     "output_type": "stream",
     "text": [
      "[[ 0.90701837 -1.71235423  0.81673326  1.20162197 -0.74738931]\n",
      " [ 1.46773947  0.02817868  0.19200072 -0.73964274 -0.35028461]\n",
      " [ 0.03926674 -0.06541551  1.8738723  -0.33722135  0.37576495]\n",
      " [ 0.40793708  0.58187648  1.82417552  2.03135104  1.20170237]\n",
      " [-0.47079939  0.12479734  0.27543969 -0.10235288 -1.41145997]\n",
      " [ 0.41963938  0.53056426  0.10364277  0.22618478 -0.78034595]\n",
      " [ 1.17713307 -1.27010795  0.28962054 -0.16284578 -0.18805358]\n",
      " [-0.82389868 -0.20118333  1.29232797  1.59731179 -0.67694832]\n",
      " [-2.10117567  0.97493727 -1.13286247 -1.03262135 -0.25786876]\n",
      " [-0.11391308  1.37285046 -0.46397711 -0.05219461  1.15510139]]\n",
      "\n",
      "\n",
      "[0.90701837 0.81673326 1.20162197 1.46773947 0.02817868 0.19200072\n",
      " 0.03926674 1.8738723  0.37576495 0.40793708 0.58187648 1.82417552\n",
      " 2.03135104 1.20170237 0.12479734 0.27543969 0.41963938 0.53056426\n",
      " 0.10364277 0.22618478 1.17713307 0.28962054 1.29232797 1.59731179\n",
      " 0.97493727 1.37285046 1.15510139]\n"
     ]
    }
   ],
   "source": [
    "print(rand_mat2)\n",
    "print()\n",
    "print()\n",
    "print(rand_mat2[rand_mat2 > 0])"
   ]
  },
  {
   "cell_type": "code",
   "execution_count": 188,
   "metadata": {},
   "outputs": [],
   "source": [
    "# saving some araay to a file\n",
    "np.save('save_rand_mat2', rand_mat2) #  np.savez is for zip'ing multiple numpy array"
   ]
  },
  {
   "cell_type": "code",
   "execution_count": 190,
   "metadata": {},
   "outputs": [
    {
     "name": "stdout",
     "output_type": "stream",
     "text": [
      "[[ 0.90701837 -1.71235423  0.81673326  1.20162197 -0.74738931]\n",
      " [ 1.46773947  0.02817868  0.19200072 -0.73964274 -0.35028461]\n",
      " [ 0.03926674 -0.06541551  1.8738723  -0.33722135  0.37576495]\n",
      " [ 0.40793708  0.58187648  1.82417552  2.03135104  1.20170237]\n",
      " [-0.47079939  0.12479734  0.27543969 -0.10235288 -1.41145997]\n",
      " [ 0.41963938  0.53056426  0.10364277  0.22618478 -0.78034595]\n",
      " [ 1.17713307 -1.27010795  0.28962054 -0.16284578 -0.18805358]\n",
      " [-0.82389868 -0.20118333  1.29232797  1.59731179 -0.67694832]\n",
      " [-2.10117567  0.97493727 -1.13286247 -1.03262135 -0.25786876]\n",
      " [-0.11391308  1.37285046 -0.46397711 -0.05219461  1.15510139]]\n"
     ]
    }
   ],
   "source": [
    "loaded_vec = np.load('save_rand_mat2.npy') # while loading it would be .npz\n",
    "print(loaded_vec)"
   ]
  },
  {
   "cell_type": "code",
   "execution_count": 197,
   "metadata": {},
   "outputs": [],
   "source": [
    "# numpy can save the array in .txt as well\n",
    "# np.savetxt('file name', array, delimiter=',')\n",
    "# loadtxt()\n",
    "np.savetxt('save_rand_mat2.txt', rand_mat2, delimiter=',') # saves as comma dilited text file"
   ]
  },
  {
   "cell_type": "code",
   "execution_count": null,
   "metadata": {},
   "outputs": [],
   "source": []
  },
  {
   "cell_type": "code",
   "execution_count": null,
   "metadata": {},
   "outputs": [],
   "source": []
  }
 ],
 "metadata": {
  "kernelspec": {
   "display_name": "Python 3",
   "language": "python",
   "name": "python3"
  },
  "language_info": {
   "codemirror_mode": {
    "name": "ipython",
    "version": 3
   },
   "file_extension": ".py",
   "mimetype": "text/x-python",
   "name": "python",
   "nbconvert_exporter": "python",
   "pygments_lexer": "ipython3",
   "version": "3.8.5"
  }
 },
 "nbformat": 4,
 "nbformat_minor": 4
}
